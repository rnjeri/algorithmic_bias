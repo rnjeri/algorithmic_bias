{
 "cells": [
  {
   "cell_type": "code",
   "execution_count": 1,
   "metadata": {
    "collapsed": false
   },
   "outputs": [],
   "source": [
    "import pandas as pd\n",
    "import numpy as np\n",
    "import matplotlib.pyplot as plt\n",
    "plt.style.use('ggplot')\n",
    "%matplotlib inline \n",
    "%load_ext autoreload\n",
    "%autoreload 2 "
   ]
  },
  {
   "cell_type": "code",
   "execution_count": 2,
   "metadata": {
    "collapsed": false
   },
   "outputs": [
    {
     "data": {
      "text/html": [
       "<div>\n",
       "<table border=\"1\" class=\"dataframe\">\n",
       "  <thead>\n",
       "    <tr style=\"text-align: right;\">\n",
       "      <th></th>\n",
       "      <th>GEO.id2</th>\n",
       "      <th>GEO.display-label</th>\n",
       "      <th>white</th>\n",
       "    </tr>\n",
       "  </thead>\n",
       "  <tbody>\n",
       "    <tr>\n",
       "      <th>0</th>\n",
       "      <td>Id2</td>\n",
       "      <td>Geography</td>\n",
       "      <td>Institutionalized population (101-106, 201-203...</td>\n",
       "    </tr>\n",
       "    <tr>\n",
       "      <th>1</th>\n",
       "      <td>53001</td>\n",
       "      <td>Adams County, Washington</td>\n",
       "      <td>14</td>\n",
       "    </tr>\n",
       "    <tr>\n",
       "      <th>2</th>\n",
       "      <td>53003</td>\n",
       "      <td>Asotin County, Washington</td>\n",
       "      <td>46</td>\n",
       "    </tr>\n",
       "    <tr>\n",
       "      <th>3</th>\n",
       "      <td>53005</td>\n",
       "      <td>Benton County, Washington</td>\n",
       "      <td>610</td>\n",
       "    </tr>\n",
       "    <tr>\n",
       "      <th>4</th>\n",
       "      <td>53007</td>\n",
       "      <td>Chelan County, Washington</td>\n",
       "      <td>272</td>\n",
       "    </tr>\n",
       "  </tbody>\n",
       "</table>\n",
       "</div>"
      ],
      "text/plain": [
       "  GEO.id2          GEO.display-label  \\\n",
       "0     Id2                  Geography   \n",
       "1   53001   Adams County, Washington   \n",
       "2   53003  Asotin County, Washington   \n",
       "3   53005  Benton County, Washington   \n",
       "4   53007  Chelan County, Washington   \n",
       "\n",
       "                                               white  \n",
       "0  Institutionalized population (101-106, 201-203...  \n",
       "1                                                 14  \n",
       "2                                                 46  \n",
       "3                                                610  \n",
       "4                                                272  "
      ]
     },
     "execution_count": 2,
     "metadata": {},
     "output_type": "execute_result"
    }
   ],
   "source": [
    "white_df = pd.read_csv('data/group_quarters_by_race/DEC_10_SF1_PCT20A_with_ann.csv')\n",
    "white_df.head()\n",
    "'''\n",
    "insitutionalized by race, by county in WA state\n",
    "'''\n",
    "white_df = white_df[['GEO.id2', 'GEO.display-label', 'D003']]\n",
    "white_df.columns= ['GEO.id2', 'GEO.display-label', 'white']\n",
    "white_df.head()"
   ]
  },
  {
   "cell_type": "code",
   "execution_count": 3,
   "metadata": {
    "collapsed": false
   },
   "outputs": [
    {
     "data": {
      "text/html": [
       "<div>\n",
       "<table border=\"1\" class=\"dataframe\">\n",
       "  <thead>\n",
       "    <tr style=\"text-align: right;\">\n",
       "      <th></th>\n",
       "      <th>GEO.id2</th>\n",
       "      <th>GEO.display-label</th>\n",
       "      <th>black</th>\n",
       "    </tr>\n",
       "  </thead>\n",
       "  <tbody>\n",
       "    <tr>\n",
       "      <th>0</th>\n",
       "      <td>Id2</td>\n",
       "      <td>Geography</td>\n",
       "      <td>Institutionalized population (101-106, 201-203...</td>\n",
       "    </tr>\n",
       "    <tr>\n",
       "      <th>1</th>\n",
       "      <td>53001</td>\n",
       "      <td>Adams County, Washington</td>\n",
       "      <td>0</td>\n",
       "    </tr>\n",
       "    <tr>\n",
       "      <th>2</th>\n",
       "      <td>53003</td>\n",
       "      <td>Asotin County, Washington</td>\n",
       "      <td>0</td>\n",
       "    </tr>\n",
       "    <tr>\n",
       "      <th>3</th>\n",
       "      <td>53005</td>\n",
       "      <td>Benton County, Washington</td>\n",
       "      <td>55</td>\n",
       "    </tr>\n",
       "    <tr>\n",
       "      <th>4</th>\n",
       "      <td>53007</td>\n",
       "      <td>Chelan County, Washington</td>\n",
       "      <td>3</td>\n",
       "    </tr>\n",
       "  </tbody>\n",
       "</table>\n",
       "</div>"
      ],
      "text/plain": [
       "  GEO.id2          GEO.display-label  \\\n",
       "0     Id2                  Geography   \n",
       "1   53001   Adams County, Washington   \n",
       "2   53003  Asotin County, Washington   \n",
       "3   53005  Benton County, Washington   \n",
       "4   53007  Chelan County, Washington   \n",
       "\n",
       "                                               black  \n",
       "0  Institutionalized population (101-106, 201-203...  \n",
       "1                                                  0  \n",
       "2                                                  0  \n",
       "3                                                 55  \n",
       "4                                                  3  "
      ]
     },
     "execution_count": 3,
     "metadata": {},
     "output_type": "execute_result"
    }
   ],
   "source": [
    "black_df = pd.read_csv('data/group_quarters_by_race/DEC_10_SF1_PCT20B_with_ann.csv')\n",
    "black_df = black_df[['GEO.id2', 'GEO.display-label', 'D003']]\n",
    "black_df.columns= ['GEO.id2', 'GEO.display-label', 'black']\n",
    "black_df.head()"
   ]
  },
  {
   "cell_type": "code",
   "execution_count": 4,
   "metadata": {
    "collapsed": false
   },
   "outputs": [
    {
     "data": {
      "text/html": [
       "<div>\n",
       "<table border=\"1\" class=\"dataframe\">\n",
       "  <thead>\n",
       "    <tr style=\"text-align: right;\">\n",
       "      <th></th>\n",
       "      <th>GEO.id2</th>\n",
       "      <th>GEO.display-label</th>\n",
       "      <th>american_indian</th>\n",
       "    </tr>\n",
       "  </thead>\n",
       "  <tbody>\n",
       "    <tr>\n",
       "      <th>0</th>\n",
       "      <td>Id2</td>\n",
       "      <td>Geography</td>\n",
       "      <td>Institutionalized population (101-106, 201-203...</td>\n",
       "    </tr>\n",
       "    <tr>\n",
       "      <th>1</th>\n",
       "      <td>53001</td>\n",
       "      <td>Adams County, Washington</td>\n",
       "      <td>1</td>\n",
       "    </tr>\n",
       "    <tr>\n",
       "      <th>2</th>\n",
       "      <td>53003</td>\n",
       "      <td>Asotin County, Washington</td>\n",
       "      <td>1</td>\n",
       "    </tr>\n",
       "    <tr>\n",
       "      <th>3</th>\n",
       "      <td>53005</td>\n",
       "      <td>Benton County, Washington</td>\n",
       "      <td>9</td>\n",
       "    </tr>\n",
       "    <tr>\n",
       "      <th>4</th>\n",
       "      <td>53007</td>\n",
       "      <td>Chelan County, Washington</td>\n",
       "      <td>17</td>\n",
       "    </tr>\n",
       "  </tbody>\n",
       "</table>\n",
       "</div>"
      ],
      "text/plain": [
       "  GEO.id2          GEO.display-label  \\\n",
       "0     Id2                  Geography   \n",
       "1   53001   Adams County, Washington   \n",
       "2   53003  Asotin County, Washington   \n",
       "3   53005  Benton County, Washington   \n",
       "4   53007  Chelan County, Washington   \n",
       "\n",
       "                                     american_indian  \n",
       "0  Institutionalized population (101-106, 201-203...  \n",
       "1                                                  1  \n",
       "2                                                  1  \n",
       "3                                                  9  \n",
       "4                                                 17  "
      ]
     },
     "execution_count": 4,
     "metadata": {},
     "output_type": "execute_result"
    }
   ],
   "source": [
    "american_indian_df = pd.read_csv('data/group_quarters_by_race/DEC_10_SF1_PCT20C_with_ann.csv')\n",
    "american_indian_df = american_indian_df[['GEO.id2', 'GEO.display-label', 'D003']]\n",
    "american_indian_df.columns= ['GEO.id2', 'GEO.display-label', 'american_indian']\n",
    "american_indian_df.head()"
   ]
  },
  {
   "cell_type": "code",
   "execution_count": 5,
   "metadata": {
    "collapsed": false
   },
   "outputs": [
    {
     "data": {
      "text/html": [
       "<div>\n",
       "<table border=\"1\" class=\"dataframe\">\n",
       "  <thead>\n",
       "    <tr style=\"text-align: right;\">\n",
       "      <th></th>\n",
       "      <th>GEO.id2</th>\n",
       "      <th>GEO.display-label</th>\n",
       "      <th>asian</th>\n",
       "    </tr>\n",
       "  </thead>\n",
       "  <tbody>\n",
       "    <tr>\n",
       "      <th>0</th>\n",
       "      <td>Id2</td>\n",
       "      <td>Geography</td>\n",
       "      <td>Institutionalized population (101-106, 201-203...</td>\n",
       "    </tr>\n",
       "    <tr>\n",
       "      <th>1</th>\n",
       "      <td>53001</td>\n",
       "      <td>Adams County, Washington</td>\n",
       "      <td>0</td>\n",
       "    </tr>\n",
       "    <tr>\n",
       "      <th>2</th>\n",
       "      <td>53003</td>\n",
       "      <td>Asotin County, Washington</td>\n",
       "      <td>0</td>\n",
       "    </tr>\n",
       "    <tr>\n",
       "      <th>3</th>\n",
       "      <td>53005</td>\n",
       "      <td>Benton County, Washington</td>\n",
       "      <td>6</td>\n",
       "    </tr>\n",
       "    <tr>\n",
       "      <th>4</th>\n",
       "      <td>53007</td>\n",
       "      <td>Chelan County, Washington</td>\n",
       "      <td>8</td>\n",
       "    </tr>\n",
       "  </tbody>\n",
       "</table>\n",
       "</div>"
      ],
      "text/plain": [
       "  GEO.id2          GEO.display-label  \\\n",
       "0     Id2                  Geography   \n",
       "1   53001   Adams County, Washington   \n",
       "2   53003  Asotin County, Washington   \n",
       "3   53005  Benton County, Washington   \n",
       "4   53007  Chelan County, Washington   \n",
       "\n",
       "                                               asian  \n",
       "0  Institutionalized population (101-106, 201-203...  \n",
       "1                                                  0  \n",
       "2                                                  0  \n",
       "3                                                  6  \n",
       "4                                                  8  "
      ]
     },
     "execution_count": 5,
     "metadata": {},
     "output_type": "execute_result"
    }
   ],
   "source": [
    "asian_df = pd.read_csv('data/group_quarters_by_race/DEC_10_SF1_PCT20D_with_ann.csv')\n",
    "asian_df = asian_df[['GEO.id2', 'GEO.display-label','D003']]\n",
    "asian_df.columns= ['GEO.id2', 'GEO.display-label', 'asian']\n",
    "asian_df.head()"
   ]
  },
  {
   "cell_type": "code",
   "execution_count": 6,
   "metadata": {
    "collapsed": false
   },
   "outputs": [
    {
     "data": {
      "text/html": [
       "<div>\n",
       "<table border=\"1\" class=\"dataframe\">\n",
       "  <thead>\n",
       "    <tr style=\"text-align: right;\">\n",
       "      <th></th>\n",
       "      <th>GEO.id2</th>\n",
       "      <th>GEO.display-label</th>\n",
       "      <th>pacific_islander</th>\n",
       "    </tr>\n",
       "  </thead>\n",
       "  <tbody>\n",
       "    <tr>\n",
       "      <th>0</th>\n",
       "      <td>Id2</td>\n",
       "      <td>Geography</td>\n",
       "      <td>Institutionalized population (101-106, 201-203...</td>\n",
       "    </tr>\n",
       "    <tr>\n",
       "      <th>1</th>\n",
       "      <td>53001</td>\n",
       "      <td>Adams County, Washington</td>\n",
       "      <td>0</td>\n",
       "    </tr>\n",
       "    <tr>\n",
       "      <th>2</th>\n",
       "      <td>53003</td>\n",
       "      <td>Asotin County, Washington</td>\n",
       "      <td>0</td>\n",
       "    </tr>\n",
       "    <tr>\n",
       "      <th>3</th>\n",
       "      <td>53005</td>\n",
       "      <td>Benton County, Washington</td>\n",
       "      <td>0</td>\n",
       "    </tr>\n",
       "    <tr>\n",
       "      <th>4</th>\n",
       "      <td>53007</td>\n",
       "      <td>Chelan County, Washington</td>\n",
       "      <td>1</td>\n",
       "    </tr>\n",
       "  </tbody>\n",
       "</table>\n",
       "</div>"
      ],
      "text/plain": [
       "  GEO.id2          GEO.display-label  \\\n",
       "0     Id2                  Geography   \n",
       "1   53001   Adams County, Washington   \n",
       "2   53003  Asotin County, Washington   \n",
       "3   53005  Benton County, Washington   \n",
       "4   53007  Chelan County, Washington   \n",
       "\n",
       "                                    pacific_islander  \n",
       "0  Institutionalized population (101-106, 201-203...  \n",
       "1                                                  0  \n",
       "2                                                  0  \n",
       "3                                                  0  \n",
       "4                                                  1  "
      ]
     },
     "execution_count": 6,
     "metadata": {},
     "output_type": "execute_result"
    }
   ],
   "source": [
    "pacific_islander_df = pd.read_csv('data/group_quarters_by_race/DEC_10_SF1_PCT20E_with_ann.csv')\n",
    "pacific_islander_df = pacific_islander_df[['GEO.id2', 'GEO.display-label', 'D003']]\n",
    "pacific_islander_df.columns= ['GEO.id2', 'GEO.display-label', 'pacific_islander']\n",
    "\n",
    "pacific_islander_df.head()"
   ]
  },
  {
   "cell_type": "code",
   "execution_count": 7,
   "metadata": {
    "collapsed": false
   },
   "outputs": [
    {
     "data": {
      "text/html": [
       "<div>\n",
       "<table border=\"1\" class=\"dataframe\">\n",
       "  <thead>\n",
       "    <tr style=\"text-align: right;\">\n",
       "      <th></th>\n",
       "      <th>GEO.id2</th>\n",
       "      <th>GEO.display-label</th>\n",
       "      <th>hispanic</th>\n",
       "    </tr>\n",
       "  </thead>\n",
       "  <tbody>\n",
       "    <tr>\n",
       "      <th>0</th>\n",
       "      <td>Id2</td>\n",
       "      <td>Geography</td>\n",
       "      <td>Institutionalized population (101-106, 201-203...</td>\n",
       "    </tr>\n",
       "    <tr>\n",
       "      <th>1</th>\n",
       "      <td>53001</td>\n",
       "      <td>Adams County, Washington</td>\n",
       "      <td>21</td>\n",
       "    </tr>\n",
       "    <tr>\n",
       "      <th>2</th>\n",
       "      <td>53003</td>\n",
       "      <td>Asotin County, Washington</td>\n",
       "      <td>0</td>\n",
       "    </tr>\n",
       "    <tr>\n",
       "      <th>3</th>\n",
       "      <td>53005</td>\n",
       "      <td>Benton County, Washington</td>\n",
       "      <td>161</td>\n",
       "    </tr>\n",
       "    <tr>\n",
       "      <th>4</th>\n",
       "      <td>53007</td>\n",
       "      <td>Chelan County, Washington</td>\n",
       "      <td>93</td>\n",
       "    </tr>\n",
       "  </tbody>\n",
       "</table>\n",
       "</div>"
      ],
      "text/plain": [
       "  GEO.id2          GEO.display-label  \\\n",
       "0     Id2                  Geography   \n",
       "1   53001   Adams County, Washington   \n",
       "2   53003  Asotin County, Washington   \n",
       "3   53005  Benton County, Washington   \n",
       "4   53007  Chelan County, Washington   \n",
       "\n",
       "                                            hispanic  \n",
       "0  Institutionalized population (101-106, 201-203...  \n",
       "1                                                 21  \n",
       "2                                                  0  \n",
       "3                                                161  \n",
       "4                                                 93  "
      ]
     },
     "execution_count": 7,
     "metadata": {},
     "output_type": "execute_result"
    }
   ],
   "source": [
    "hispanic_df = pd.read_csv('data/group_quarters_by_race/DEC_10_SF1_PCT20H_with_ann.csv')\n",
    "hispanic_df = hispanic_df[['GEO.id2', 'GEO.display-label', 'D003']]\n",
    "hispanic_df.columns= ['GEO.id2', 'GEO.display-label', 'hispanic']\n",
    "hispanic_df.head()"
   ]
  },
  {
   "cell_type": "code",
   "execution_count": 8,
   "metadata": {
    "collapsed": false
   },
   "outputs": [],
   "source": [
    "race_distribution_df = pd.concat([white_df,pacific_islander_df, asian_df, black_df,  american_indian_df, hispanic_df], axis=1)"
   ]
  },
  {
   "cell_type": "code",
   "execution_count": 9,
   "metadata": {
    "collapsed": false
   },
   "outputs": [
    {
     "data": {
      "text/plain": [
       "Index(['GEO.id2', 'GEO.display-label', 'white', 'GEO.id2', 'GEO.display-label',\n",
       "       'pacific_islander', 'GEO.id2', 'GEO.display-label', 'asian', 'GEO.id2',\n",
       "       'GEO.display-label', 'black', 'GEO.id2', 'GEO.display-label',\n",
       "       'american_indian', 'GEO.id2', 'GEO.display-label', 'hispanic'],\n",
       "      dtype='object')"
      ]
     },
     "execution_count": 9,
     "metadata": {},
     "output_type": "execute_result"
    }
   ],
   "source": [
    "race_distribution_df.columns"
   ]
  },
  {
   "cell_type": "code",
   "execution_count": 10,
   "metadata": {
    "collapsed": true
   },
   "outputs": [],
   "source": [
    "race_distribution_df = race_distribution_df[['GEO.display-label','white','pacific_islander' , 'asian', 'hispanic', 'american_indian', 'black']]"
   ]
  },
  {
   "cell_type": "code",
   "execution_count": 11,
   "metadata": {
    "collapsed": true
   },
   "outputs": [],
   "source": [
    "race_distribution_df = race_distribution_df.loc[:,~race_distribution_df.columns.duplicated()]"
   ]
  },
  {
   "cell_type": "code",
   "execution_count": 12,
   "metadata": {
    "collapsed": false
   },
   "outputs": [
    {
     "data": {
      "text/html": [
       "<div>\n",
       "<table border=\"1\" class=\"dataframe\">\n",
       "  <thead>\n",
       "    <tr style=\"text-align: right;\">\n",
       "      <th></th>\n",
       "      <th>GEO.display-label</th>\n",
       "      <th>white</th>\n",
       "      <th>pacific_islander</th>\n",
       "      <th>asian</th>\n",
       "      <th>hispanic</th>\n",
       "      <th>american_indian</th>\n",
       "      <th>black</th>\n",
       "    </tr>\n",
       "  </thead>\n",
       "  <tbody>\n",
       "    <tr>\n",
       "      <th>0</th>\n",
       "      <td>Geography</td>\n",
       "      <td>Institutionalized population (101-106, 201-203...</td>\n",
       "      <td>Institutionalized population (101-106, 201-203...</td>\n",
       "      <td>Institutionalized population (101-106, 201-203...</td>\n",
       "      <td>Institutionalized population (101-106, 201-203...</td>\n",
       "      <td>Institutionalized population (101-106, 201-203...</td>\n",
       "      <td>Institutionalized population (101-106, 201-203...</td>\n",
       "    </tr>\n",
       "    <tr>\n",
       "      <th>1</th>\n",
       "      <td>Adams County, Washington</td>\n",
       "      <td>14</td>\n",
       "      <td>0</td>\n",
       "      <td>0</td>\n",
       "      <td>21</td>\n",
       "      <td>1</td>\n",
       "      <td>0</td>\n",
       "    </tr>\n",
       "    <tr>\n",
       "      <th>2</th>\n",
       "      <td>Asotin County, Washington</td>\n",
       "      <td>46</td>\n",
       "      <td>0</td>\n",
       "      <td>0</td>\n",
       "      <td>0</td>\n",
       "      <td>1</td>\n",
       "      <td>0</td>\n",
       "    </tr>\n",
       "    <tr>\n",
       "      <th>3</th>\n",
       "      <td>Benton County, Washington</td>\n",
       "      <td>610</td>\n",
       "      <td>0</td>\n",
       "      <td>6</td>\n",
       "      <td>161</td>\n",
       "      <td>9</td>\n",
       "      <td>55</td>\n",
       "    </tr>\n",
       "    <tr>\n",
       "      <th>4</th>\n",
       "      <td>Chelan County, Washington</td>\n",
       "      <td>272</td>\n",
       "      <td>1</td>\n",
       "      <td>8</td>\n",
       "      <td>93</td>\n",
       "      <td>17</td>\n",
       "      <td>3</td>\n",
       "    </tr>\n",
       "  </tbody>\n",
       "</table>\n",
       "</div>"
      ],
      "text/plain": [
       "           GEO.display-label  \\\n",
       "0                  Geography   \n",
       "1   Adams County, Washington   \n",
       "2  Asotin County, Washington   \n",
       "3  Benton County, Washington   \n",
       "4  Chelan County, Washington   \n",
       "\n",
       "                                               white  \\\n",
       "0  Institutionalized population (101-106, 201-203...   \n",
       "1                                                 14   \n",
       "2                                                 46   \n",
       "3                                                610   \n",
       "4                                                272   \n",
       "\n",
       "                                    pacific_islander  \\\n",
       "0  Institutionalized population (101-106, 201-203...   \n",
       "1                                                  0   \n",
       "2                                                  0   \n",
       "3                                                  0   \n",
       "4                                                  1   \n",
       "\n",
       "                                               asian  \\\n",
       "0  Institutionalized population (101-106, 201-203...   \n",
       "1                                                  0   \n",
       "2                                                  0   \n",
       "3                                                  6   \n",
       "4                                                  8   \n",
       "\n",
       "                                            hispanic  \\\n",
       "0  Institutionalized population (101-106, 201-203...   \n",
       "1                                                 21   \n",
       "2                                                  0   \n",
       "3                                                161   \n",
       "4                                                 93   \n",
       "\n",
       "                                     american_indian  \\\n",
       "0  Institutionalized population (101-106, 201-203...   \n",
       "1                                                  1   \n",
       "2                                                  1   \n",
       "3                                                  9   \n",
       "4                                                 17   \n",
       "\n",
       "                                               black  \n",
       "0  Institutionalized population (101-106, 201-203...  \n",
       "1                                                  0  \n",
       "2                                                  0  \n",
       "3                                                 55  \n",
       "4                                                  3  "
      ]
     },
     "execution_count": 12,
     "metadata": {},
     "output_type": "execute_result"
    }
   ],
   "source": [
    "race_distribution_df.head()"
   ]
  },
  {
   "cell_type": "code",
   "execution_count": 13,
   "metadata": {
    "collapsed": false
   },
   "outputs": [],
   "source": [
    "race_distribution_df = race_distribution_df.drop(race_distribution_df.index[0])"
   ]
  },
  {
   "cell_type": "code",
   "execution_count": 14,
   "metadata": {
    "collapsed": false
   },
   "outputs": [
    {
     "name": "stdout",
     "output_type": "stream",
     "text": [
      "<class 'pandas.core.frame.DataFrame'>\n",
      "Int64Index: 39 entries, 1 to 39\n",
      "Data columns (total 7 columns):\n",
      "GEO.display-label    39 non-null object\n",
      "white                39 non-null object\n",
      "pacific_islander     39 non-null object\n",
      "asian                39 non-null object\n",
      "hispanic             39 non-null object\n",
      "american_indian      39 non-null object\n",
      "black                39 non-null object\n",
      "dtypes: object(7)\n",
      "memory usage: 2.4+ KB\n"
     ]
    }
   ],
   "source": [
    "race_distribution_df.info()"
   ]
  },
  {
   "cell_type": "code",
   "execution_count": 15,
   "metadata": {
    "collapsed": false
   },
   "outputs": [
    {
     "data": {
      "text/html": [
       "<div>\n",
       "<table border=\"1\" class=\"dataframe\">\n",
       "  <thead>\n",
       "    <tr style=\"text-align: right;\">\n",
       "      <th></th>\n",
       "      <th>GEO.display-label</th>\n",
       "      <th>white</th>\n",
       "      <th>pacific_islander</th>\n",
       "      <th>asian</th>\n",
       "      <th>hispanic</th>\n",
       "      <th>american_indian</th>\n",
       "      <th>black</th>\n",
       "    </tr>\n",
       "  </thead>\n",
       "  <tbody>\n",
       "    <tr>\n",
       "      <th>count</th>\n",
       "      <td>39</td>\n",
       "      <td>39</td>\n",
       "      <td>39</td>\n",
       "      <td>39</td>\n",
       "      <td>39</td>\n",
       "      <td>39</td>\n",
       "      <td>39</td>\n",
       "    </tr>\n",
       "    <tr>\n",
       "      <th>unique</th>\n",
       "      <td>39</td>\n",
       "      <td>36</td>\n",
       "      <td>13</td>\n",
       "      <td>17</td>\n",
       "      <td>27</td>\n",
       "      <td>26</td>\n",
       "      <td>24</td>\n",
       "    </tr>\n",
       "    <tr>\n",
       "      <th>top</th>\n",
       "      <td>Klickitat County, Washington</td>\n",
       "      <td>0</td>\n",
       "      <td>0</td>\n",
       "      <td>0</td>\n",
       "      <td>0</td>\n",
       "      <td>0</td>\n",
       "      <td>0</td>\n",
       "    </tr>\n",
       "    <tr>\n",
       "      <th>freq</th>\n",
       "      <td>1</td>\n",
       "      <td>3</td>\n",
       "      <td>22</td>\n",
       "      <td>17</td>\n",
       "      <td>9</td>\n",
       "      <td>6</td>\n",
       "      <td>13</td>\n",
       "    </tr>\n",
       "  </tbody>\n",
       "</table>\n",
       "</div>"
      ],
      "text/plain": [
       "                   GEO.display-label white pacific_islander asian hispanic  \\\n",
       "count                             39    39               39    39       39   \n",
       "unique                            39    36               13    17       27   \n",
       "top     Klickitat County, Washington     0                0     0        0   \n",
       "freq                               1     3               22    17        9   \n",
       "\n",
       "       american_indian black  \n",
       "count               39    39  \n",
       "unique              26    24  \n",
       "top                  0     0  \n",
       "freq                 6    13  "
      ]
     },
     "execution_count": 15,
     "metadata": {},
     "output_type": "execute_result"
    }
   ],
   "source": [
    "race_distribution_df.describe()"
   ]
  },
  {
   "cell_type": "code",
   "execution_count": 16,
   "metadata": {
    "collapsed": false
   },
   "outputs": [],
   "source": [
    "rddf = race_distribution_df.apply(lambda x: pd.to_numeric(x, errors='ignore'))"
   ]
  },
  {
   "cell_type": "code",
   "execution_count": 17,
   "metadata": {
    "collapsed": false
   },
   "outputs": [
    {
     "data": {
      "text/plain": [
       "<matplotlib.axes._subplots.AxesSubplot at 0x7f31e000b4a8>"
      ]
     },
     "execution_count": 17,
     "metadata": {},
     "output_type": "execute_result"
    },
    {
     "data": {
      "image/png": "[encoded data removed]",
      "text/plain": [
       "<matplotlib.figure.Figure at 0x7f31e000e4e0>"
      ]
     },
     "metadata": {},
     "output_type": "display_data"
    }
   ],
   "source": [
    "rddf.plot(kind='box', figsize=(16,16))"
   ]
  },
  {
   "cell_type": "code",
   "execution_count": 18,
   "metadata": {
    "collapsed": false
   },
   "outputs": [
    {
     "data": {
      "text/plain": [
       "array([[<matplotlib.axes._subplots.AxesSubplot object at 0x7f31dd4f1dd8>,\n",
       "        <matplotlib.axes._subplots.AxesSubplot object at 0x7f31dda6c0b8>,\n",
       "        <matplotlib.axes._subplots.AxesSubplot object at 0x7f31dd9d36a0>,\n",
       "        <matplotlib.axes._subplots.AxesSubplot object at 0x7f31dd9a6588>,\n",
       "        <matplotlib.axes._subplots.AxesSubplot object at 0x7f31dd90df60>,\n",
       "        <matplotlib.axes._subplots.AxesSubplot object at 0x7f31dd90df98>],\n",
       "       [<matplotlib.axes._subplots.AxesSubplot object at 0x7f31dd85a160>,\n",
       "        <matplotlib.axes._subplots.AxesSubplot object at 0x7f31dd8344e0>,\n",
       "        <matplotlib.axes._subplots.AxesSubplot object at 0x7f31dd79abe0>,\n",
       "        <matplotlib.axes._subplots.AxesSubplot object at 0x7f31dd77a4e0>,\n",
       "        <matplotlib.axes._subplots.AxesSubplot object at 0x7f31dd6e29b0>,\n",
       "        <matplotlib.axes._subplots.AxesSubplot object at 0x7f31dd63d4e0>],\n",
       "       [<matplotlib.axes._subplots.AxesSubplot object at 0x7f31dd6269b0>,\n",
       "        <matplotlib.axes._subplots.AxesSubplot object at 0x7f31dd5c2080>,\n",
       "        <matplotlib.axes._subplots.AxesSubplot object at 0x7f31dd1959b0>,\n",
       "        <matplotlib.axes._subplots.AxesSubplot object at 0x7f31dd0fdda0>,\n",
       "        <matplotlib.axes._subplots.AxesSubplot object at 0x7f31dd0d78d0>,\n",
       "        <matplotlib.axes._subplots.AxesSubplot object at 0x7f31dd040cc0>],\n",
       "       [<matplotlib.axes._subplots.AxesSubplot object at 0x7f31dd01c908>,\n",
       "        <matplotlib.axes._subplots.AxesSubplot object at 0x7f31dcf83940>,\n",
       "        <matplotlib.axes._subplots.AxesSubplot object at 0x7f31dcf674a8>,\n",
       "        <matplotlib.axes._subplots.AxesSubplot object at 0x7f31dcecf8d0>,\n",
       "        <matplotlib.axes._subplots.AxesSubplot object at 0x7f31dce2ad30>,\n",
       "        <matplotlib.axes._subplots.AxesSubplot object at 0x7f31dce19358>],\n",
       "       [<matplotlib.axes._subplots.AxesSubplot object at 0x7f31dcd70d30>,\n",
       "        <matplotlib.axes._subplots.AxesSubplot object at 0x7f31dcd5d438>,\n",
       "        <matplotlib.axes._subplots.AxesSubplot object at 0x7f31dd5072b0>,\n",
       "        <matplotlib.axes._subplots.AxesSubplot object at 0x7f31dcc7db38>,\n",
       "        <matplotlib.axes._subplots.AxesSubplot object at 0x7f31dcbee550>,\n",
       "        <matplotlib.axes._subplots.AxesSubplot object at 0x7f31dcbc0ef0>],\n",
       "       [<matplotlib.axes._subplots.AxesSubplot object at 0x7f31dcb30eb8>,\n",
       "        <matplotlib.axes._subplots.AxesSubplot object at 0x7f31dcb02940>,\n",
       "        <matplotlib.axes._subplots.AxesSubplot object at 0x7f31dca6cd30>,\n",
       "        <matplotlib.axes._subplots.AxesSubplot object at 0x7f31dca47860>,\n",
       "        <matplotlib.axes._subplots.AxesSubplot object at 0x7f31dc9b2898>,\n",
       "        <matplotlib.axes._subplots.AxesSubplot object at 0x7f31dc994400>]], dtype=object)"
      ]
     },
     "execution_count": 18,
     "metadata": {},
     "output_type": "execute_result"
    },
    {
     "data": {
      "image/png": "[encoded data removed]",
      "text/plain": [
       "<matplotlib.figure.Figure at 0x7f31dd4f1080>"
      ]
     },
     "metadata": {},
     "output_type": "display_data"
    }
   ],
   "source": [
    "from pandas.tools.plotting import scatter_matrix\n",
    "scatter_matrix(rddf, alpha=0.3,figsize=(16,16))"
   ]
  },
  {
   "cell_type": "code",
   "execution_count": 19,
   "metadata": {
    "collapsed": false
   },
   "outputs": [
    {
     "data": {
      "text/plain": [
       "<matplotlib.axes._subplots.AxesSubplot at 0x7f31dc72d208>"
      ]
     },
     "execution_count": 19,
     "metadata": {},
     "output_type": "execute_result"
    },
    {
     "data": {
      "image/png": "[encoded data removed]",
      "text/plain": [
       "<matplotlib.figure.Figure at 0x7f31dc7e6e10>"
      ]
     },
     "metadata": {},
     "output_type": "display_data"
    }
   ],
   "source": [
    "rddf.plot(bins=25, alpha=0.2, kind='hist')"
   ]
  }
 ],
 "metadata": {
  "kernelspec": {
   "display_name": "Python 3",
   "language": "python",
   "name": "python3"
  },
  "language_info": {
   "codemirror_mode": {
    "name": "ipython",
    "version": 3
   },
   "file_extension": ".py",
   "mimetype": "text/x-python",
   "name": "python",
   "nbconvert_exporter": "python",
   "pygments_lexer": "ipython3",
   "version": "3.6.0"
  }
 },
 "nbformat": 4,
 "nbformat_minor": 2
}
