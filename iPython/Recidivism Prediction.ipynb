{
 "cells": [
  {
   "cell_type": "markdown",
   "metadata": {},
   "source": [
    "## Washington State Recidivism Rates by Demographic\n",
    "data source: http://www.doc.wa.gov/docs/publications/200-CH001.pdf"
   ]
  },
  {
   "cell_type": "code",
   "execution_count": 1,
   "metadata": {
    "collapsed": false
   },
   "outputs": [],
   "source": [
    "'''\n",
    "calcuating recidivism prediction for each demographic \n",
    "'''\n",
    "def _gender_recidivism_prediction(gender):\n",
    "    if gender == 'Female':\n",
    "        return 20.1\n",
    "    else:\n",
    "        return 28.9\n",
    "    \n",
    "def _race_recidivism_prediction(race):\n",
    "    if race == 'White':\n",
    "        return 27.5\n",
    "    elif race == 'Black':\n",
    "        return 30.4\n",
    "    elif race == 'Hispanic':\n",
    "        return 24.6\n",
    "    elif race == 'N. American Indian':\n",
    "        return 34.2\n",
    "    elif race== 'Asian/Pacific Islander':\n",
    "        return 23.0\n",
    "    else:\n",
    "        return 17.6\n",
    "        \n",
    "def _age_recidivism_prediction(age):\n",
    "    if age <= 19:\n",
    "        return 29.3\n",
    "    elif age >= 20 and age <= 24:\n",
    "        return 33.9\n",
    "    elif age >= 25 and age <= 29:\n",
    "        return 30.8\n",
    "    elif age >= 30 and age <= 34:\n",
    "        return 30.0\n",
    "    elif age >= 35 and age <= 39:\n",
    "        return 30.2\n",
    "    elif age >= 40 and age <= 44:\n",
    "        return 25.1\n",
    "    elif age >= 45 and age <= 49:\n",
    "        return 23.1\n",
    "    elif age >= 50 and age <= 54:\n",
    "        return 17.8\n",
    "    else:\n",
    "        return 9.8\n",
    "    \n",
    "    \n",
    "def _calculate_overall_recidivism(age, race, gender):\n",
    "    return (age_recidivism_prediction(age) +  race_recidivism_prediction(race) + gender_recidivism_prediction(gender))/3\n",
    "\n",
    "def _alternate_life_recidivism(race, recidivism):\n",
    "    if race == 'white':\n",
    "        return recidivism /2\n",
    "    elif race == 'black':\n",
    "        return recidivism *2\n",
    "    else:\n",
    "        return recidivism "
   ]
  }
 ],
 "metadata": {
  "kernelspec": {
   "display_name": "Python 3",
   "language": "python",
   "name": "python3"
  },
  "language_info": {
   "codemirror_mode": {
    "name": "ipython",
    "version": 3
   },
   "file_extension": ".py",
   "mimetype": "text/x-python",
   "name": "python",
   "nbconvert_exporter": "python",
   "pygments_lexer": "ipython3",
   "version": "3.6.0"
  }
 },
 "nbformat": 4,
 "nbformat_minor": 2
}
