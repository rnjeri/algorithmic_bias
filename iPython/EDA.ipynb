{
 "cells": [
  {
   "cell_type": "markdown",
   "metadata": {},
   "source": [
    "## Exploratory Data Analysis on PPEP Data"
   ]
  },
  {
   "cell_type": "code",
   "execution_count": 1,
   "metadata": {
    "collapsed": false
   },
   "outputs": [],
   "source": [
    "import pandas as pd\n",
    "import matplotlib.pyplot as plt\n",
    "%matplotlib inline\n",
    "%load_ext autoreload\n",
    "%autoreload 2\n",
    "from pandas.tools.plotting import scatter_matrix\n",
    "from sklearn.metrics import roc_curve\n",
    "from sklearn.metrics import auc\n",
    "from __future__ import division\n",
    "import _pickle as pickle"
   ]
  },
  {
   "cell_type": "code",
   "execution_count": 2,
   "metadata": {
    "collapsed": false
   },
   "outputs": [],
   "source": [
    "def data_cleaning_function(filepath):\n",
    "    '''\n",
    "    load data into a pandas dataframe from the csv file\n",
    "    '''\n",
    "    df_ = pd.read_csv(filepath)\n",
    "    '''\n",
    "    Drop the last five columns which were non user data generated when downloading\n",
    "    data from Salesforce\n",
    "    '''\n",
    "    df_ = df_.ix[:3570,:]\n",
    "\n",
    "    '''\n",
    "    keep only the data that has DOC numbers\n",
    "    '''\n",
    "    df_.dropna(subset =['DOC / Agency #'], inplace= True)\n",
    "\n",
    "    '''\n",
    "    create a count of recidivism events for each person\n",
    "    '''\n",
    "    recidivism_events = df_.groupby('DOC / Agency #').count()['Recidivism Event Name']\n",
    "    df_ = df_.drop_duplicates('DOC / Agency #')\n",
    "    df_.set_index('DOC / Agency #', inplace = True)\n",
    "\n",
    "    '''\n",
    "    concat the recidivism count with original data frame\n",
    "    '''\n",
    "    clean_df = pd.concat([df_, recidivism_events], axis = 1)\n",
    "\n",
    "    '''\n",
    "    rename the columns\n",
    "    '''\n",
    "    clean_df.columns= ['full_name', 'recidivism_event_name', 's_code',\n",
    "           'level_of_service', 'education_level_when_released',\n",
    "           'gender', 'race_or_ethnicity', 'num_of_children',\n",
    "           'num_recidivisms']\n",
    "    '''\n",
    "    create ordinal values for the education column\n",
    "    '''\n",
    "    clean_df['education_level_when_released'] = clean_df['education_level_when_released'].map({'nan': 0,\\\n",
    "        'Passed 8th Grade': 0,'Passed 8th Grade': 1,'GED': 2, 'High School Diploma': 3, 'Some College': 4,\\\n",
    "        'Associates Degree': 5, 'Bachelors Degree': 6})\n",
    "    return clean_df\n",
    "\n",
    "clean_df = data_cleaning_function('data/data_with_agencynum.csv')"
   ]
  },
  {
   "cell_type": "code",
   "execution_count": null,
   "metadata": {
    "collapsed": true
   },
   "outputs": [],
   "source": [
    "adf = pd.read_csv('data/data_with_agencynum.csv')"
   ]
  },
  {
   "cell_type": "code",
   "execution_count": null,
   "metadata": {
    "collapsed": true
   },
   "outputs": [],
   "source": [
    "bdf = pd.read_csv('data/birthdates.csv')"
   ]
  },
  {
   "cell_type": "code",
   "execution_count": null,
   "metadata": {
    "collapsed": false
   },
   "outputs": [],
   "source": [
    "birthdates = bdf[['DOC / Agency #', 'Birthdate']]\n",
    "birthdates.drop_duplicates('DOC / Agency #', inplace = True)\n",
    "birthdates.set_index('DOC / Agency #', inplace = True)"
   ]
  },
  {
   "cell_type": "code",
   "execution_count": null,
   "metadata": {
    "collapsed": false
   },
   "outputs": [],
   "source": [
    "clean_df = pd.concat([clean_df, birthdates], axis = 1)"
   ]
  },
  {
   "cell_type": "code",
   "execution_count": null,
   "metadata": {
    "collapsed": false
   },
   "outputs": [],
   "source": [
    "clean_df.columns"
   ]
  },
  {
   "cell_type": "code",
   "execution_count": null,
   "metadata": {
    "collapsed": false
   },
   "outputs": [],
   "source": [
    "clean_df.head(30)"
   ]
  },
  {
   "cell_type": "code",
   "execution_count": null,
   "metadata": {
    "collapsed": false
   },
   "outputs": [],
   "source": [
    "clean_df.dropna(axis=0, how='any', thresh=None, subset=['Birthdate'], inplace=True)"
   ]
  },
  {
   "cell_type": "code",
   "execution_count": null,
   "metadata": {
    "collapsed": false
   },
   "outputs": [],
   "source": [
    "clean_df.tail()"
   ]
  },
  {
   "cell_type": "code",
   "execution_count": null,
   "metadata": {
    "collapsed": false
   },
   "outputs": [],
   "source": [
    "clean_df.reset_index\n",
    "clean_df['age'] = [2017 - int(x[-4:]) for x in clean_df['Birthdate']]"
   ]
  },
  {
   "cell_type": "code",
   "execution_count": null,
   "metadata": {
    "collapsed": true
   },
   "outputs": [],
   "source": [
    "clean_df.drop(['age?', 'year'], inplace = True, axis = 1)\n"
   ]
  },
  {
   "cell_type": "code",
   "execution_count": 77,
   "metadata": {
    "collapsed": false
   },
   "outputs": [],
   "source": [
    "clean_df_norace = clean_df.drop(['race_or_ethnicity'], axis = 1)"
   ]
  },
  {
   "cell_type": "code",
   "execution_count": null,
   "metadata": {
    "collapsed": false
   },
   "outputs": [],
   "source": [
    "scatter_matrix(clean_df, figsize = (16,16), alpha=0.1)"
   ]
  },
  {
   "cell_type": "code",
   "execution_count": null,
   "metadata": {
    "collapsed": false
   },
   "outputs": [],
   "source": [
    "fig, ax = plt.subplots()\n",
    "for los in range(1,4):\n",
    "    ax.hist(clean_df[clean_df.level_of_service==los].num_recidivisms, alpha=0.2, label=str(los))\n",
    "ax.legend()"
   ]
  },
  {
   "cell_type": "code",
   "execution_count": null,
   "metadata": {
    "collapsed": false
   },
   "outputs": [],
   "source": [
    "clean_df.plot(kind='box', figsize=(10,10))"
   ]
  },
  {
   "cell_type": "code",
   "execution_count": null,
   "metadata": {
    "collapsed": false
   },
   "outputs": [],
   "source": [
    "clean_df.plot(bins=25, alpha=0.2, kind='hist', figsize = (10,10))"
   ]
  },
  {
   "cell_type": "code",
   "execution_count": null,
   "metadata": {
    "collapsed": false
   },
   "outputs": [],
   "source": [
    "clean_df.info()"
   ]
  },
  {
   "cell_type": "code",
   "execution_count": null,
   "metadata": {
    "collapsed": false
   },
   "outputs": [],
   "source": [
    "clean_df.describe()"
   ]
  },
  {
   "cell_type": "code",
   "execution_count": null,
   "metadata": {
    "collapsed": true
   },
   "outputs": [],
   "source": []
  },
  {
   "cell_type": "code",
   "execution_count": 78,
   "metadata": {
    "collapsed": true
   },
   "outputs": [],
   "source": [
    "dummiess = pd.get_dummies(clean_df_norace, columns =['education_level_when_released', 'gender'])\n",
    "dummiess.drop(['full_name', 'recidivism_event_name', 'Birthdate'], inplace = True, axis = 1)\n",
    "x_norace = dummiess.dropna(axis = 0)"
   ]
  },
  {
   "cell_type": "code",
   "execution_count": 92,
   "metadata": {
    "collapsed": false
   },
   "outputs": [],
   "source": [
    "dummies = pd.get_dummies(clean_df, columns =['education_level_when_released', 'race_or_ethnicity', 'gender' ])"
   ]
  },
  {
   "cell_type": "code",
   "execution_count": 93,
   "metadata": {
    "collapsed": false
   },
   "outputs": [],
   "source": [
    "dummies.drop(['full_name', 'recidivism_event_name', 'Birthdate'], inplace = True, axis = 1)\n",
    "x = dummies.dropna(axis = 0)"
   ]
  },
  {
   "cell_type": "code",
   "execution_count": null,
   "metadata": {
    "collapsed": false
   },
   "outputs": [],
   "source": [
    "x.columns\n",
    "## play with the race column and see which version performs better\n",
    "\n",
    "##logistic regression to view coefficients, \n",
    "##model without race\n",
    "##feature engineering around the y value"
   ]
  },
  {
   "cell_type": "code",
   "execution_count": null,
   "metadata": {
    "collapsed": false
   },
   "outputs": [],
   "source": [
    "ppep_clients = x[x.level_of_service == 3]\n",
    "ppep_y  = ppep_clients['num_recidivisms'] > 1\n",
    "ppep_clients.drop('num_recidivisms', inplace = True, axis = 1)"
   ]
  },
  {
   "cell_type": "code",
   "execution_count": null,
   "metadata": {
    "collapsed": false
   },
   "outputs": [],
   "source": [
    "non_ppep_clients = x[x.level_of_service == 3]\n",
    "non_ppep_y  = non_ppep_clients['num_recidivisms'] > 1\n",
    "non_ppep_clients.drop('num_recidivisms', inplace = True, axis = 1)"
   ]
  },
  {
   "cell_type": "code",
   "execution_count": 79,
   "metadata": {
    "collapsed": false
   },
   "outputs": [
    {
     "name": "stderr",
     "output_type": "stream",
     "text": [
      "/home/rnjeri/anaconda3/lib/python3.6/site-packages/ipykernel/__main__.py:2: SettingWithCopyWarning: \n",
      "A value is trying to be set on a copy of a slice from a DataFrame\n",
      "\n",
      "See the caveats in the documentation: http://pandas.pydata.org/pandas-docs/stable/indexing.html#indexing-view-versus-copy\n",
      "  from ipykernel import kernelapp as app\n"
     ]
    }
   ],
   "source": [
    "y_norace  = x_norace['num_recidivisms'] > 1\n",
    "x_norace.drop('num_recidivisms', inplace = True, axis = 1)"
   ]
  },
  {
   "cell_type": "code",
   "execution_count": 94,
   "metadata": {
    "collapsed": false
   },
   "outputs": [
    {
     "name": "stderr",
     "output_type": "stream",
     "text": [
      "/home/rnjeri/anaconda3/lib/python3.6/site-packages/ipykernel/__main__.py:2: SettingWithCopyWarning: \n",
      "A value is trying to be set on a copy of a slice from a DataFrame\n",
      "\n",
      "See the caveats in the documentation: http://pandas.pydata.org/pandas-docs/stable/indexing.html#indexing-view-versus-copy\n",
      "  from ipykernel import kernelapp as app\n"
     ]
    }
   ],
   "source": [
    "y  = x['num_recidivisms'] > 1\n",
    "x.drop('num_recidivisms', inplace = True, axis = 1)"
   ]
  },
  {
   "cell_type": "code",
   "execution_count": null,
   "metadata": {
    "collapsed": false
   },
   "outputs": [],
   "source": [
    "from sklearn.ensemble import RandomForestClassifier\n",
    "from sklearn.ensemble import GradientBoostingClassifier\n",
    "from sklearn.model_selection import train_test_split\n",
    "from sklearn.linear_model import LogisticRegression"
   ]
  },
  {
   "cell_type": "code",
   "execution_count": 80,
   "metadata": {
    "collapsed": false
   },
   "outputs": [
    {
     "data": {
      "text/html": [
       "<div>\n",
       "<table border=\"1\" class=\"dataframe\">\n",
       "  <thead>\n",
       "    <tr style=\"text-align: right;\">\n",
       "      <th></th>\n",
       "      <th>s_code</th>\n",
       "      <th>level_of_service</th>\n",
       "      <th>num_of_children</th>\n",
       "      <th>age</th>\n",
       "      <th>education_level_when_released_1.0</th>\n",
       "      <th>education_level_when_released_2.0</th>\n",
       "      <th>education_level_when_released_3.0</th>\n",
       "      <th>education_level_when_released_4.0</th>\n",
       "      <th>education_level_when_released_5.0</th>\n",
       "      <th>education_level_when_released_6.0</th>\n",
       "      <th>gender_Female</th>\n",
       "      <th>gender_Male</th>\n",
       "      <th>gender_Other</th>\n",
       "      <th>gender_Transgender Woman</th>\n",
       "    </tr>\n",
       "    <tr>\n",
       "      <th>DOC / Agency #</th>\n",
       "      <th></th>\n",
       "      <th></th>\n",
       "      <th></th>\n",
       "      <th></th>\n",
       "      <th></th>\n",
       "      <th></th>\n",
       "      <th></th>\n",
       "      <th></th>\n",
       "      <th></th>\n",
       "      <th></th>\n",
       "      <th></th>\n",
       "      <th></th>\n",
       "      <th></th>\n",
       "      <th></th>\n",
       "    </tr>\n",
       "  </thead>\n",
       "  <tbody>\n",
       "    <tr>\n",
       "      <th>127649.0</th>\n",
       "      <td>1.0</td>\n",
       "      <td>0.0</td>\n",
       "      <td>2.0</td>\n",
       "      <td>70</td>\n",
       "      <td>0</td>\n",
       "      <td>0</td>\n",
       "      <td>0</td>\n",
       "      <td>1</td>\n",
       "      <td>0</td>\n",
       "      <td>0</td>\n",
       "      <td>0</td>\n",
       "      <td>0</td>\n",
       "      <td>0</td>\n",
       "      <td>0</td>\n",
       "    </tr>\n",
       "    <tr>\n",
       "      <th>226252.0</th>\n",
       "      <td>1.0</td>\n",
       "      <td>0.0</td>\n",
       "      <td>1.0</td>\n",
       "      <td>68</td>\n",
       "      <td>0</td>\n",
       "      <td>0</td>\n",
       "      <td>0</td>\n",
       "      <td>0</td>\n",
       "      <td>0</td>\n",
       "      <td>1</td>\n",
       "      <td>0</td>\n",
       "      <td>1</td>\n",
       "      <td>0</td>\n",
       "      <td>0</td>\n",
       "    </tr>\n",
       "    <tr>\n",
       "      <th>227654.0</th>\n",
       "      <td>1.0</td>\n",
       "      <td>0.0</td>\n",
       "      <td>1.0</td>\n",
       "      <td>68</td>\n",
       "      <td>0</td>\n",
       "      <td>0</td>\n",
       "      <td>0</td>\n",
       "      <td>0</td>\n",
       "      <td>0</td>\n",
       "      <td>1</td>\n",
       "      <td>0</td>\n",
       "      <td>1</td>\n",
       "      <td>0</td>\n",
       "      <td>0</td>\n",
       "    </tr>\n",
       "    <tr>\n",
       "      <th>232125.0</th>\n",
       "      <td>2.0</td>\n",
       "      <td>1.0</td>\n",
       "      <td>0.0</td>\n",
       "      <td>64</td>\n",
       "      <td>0</td>\n",
       "      <td>0</td>\n",
       "      <td>0</td>\n",
       "      <td>1</td>\n",
       "      <td>0</td>\n",
       "      <td>0</td>\n",
       "      <td>0</td>\n",
       "      <td>0</td>\n",
       "      <td>0</td>\n",
       "      <td>0</td>\n",
       "    </tr>\n",
       "    <tr>\n",
       "      <th>233914.0</th>\n",
       "      <td>2.0</td>\n",
       "      <td>0.0</td>\n",
       "      <td>0.0</td>\n",
       "      <td>64</td>\n",
       "      <td>0</td>\n",
       "      <td>1</td>\n",
       "      <td>0</td>\n",
       "      <td>0</td>\n",
       "      <td>0</td>\n",
       "      <td>0</td>\n",
       "      <td>0</td>\n",
       "      <td>1</td>\n",
       "      <td>0</td>\n",
       "      <td>0</td>\n",
       "    </tr>\n",
       "  </tbody>\n",
       "</table>\n",
       "</div>"
      ],
      "text/plain": [
       "                s_code  level_of_service  num_of_children  age  \\\n",
       "DOC / Agency #                                                   \n",
       "127649.0           1.0               0.0              2.0   70   \n",
       "226252.0           1.0               0.0              1.0   68   \n",
       "227654.0           1.0               0.0              1.0   68   \n",
       "232125.0           2.0               1.0              0.0   64   \n",
       "233914.0           2.0               0.0              0.0   64   \n",
       "\n",
       "                education_level_when_released_1.0  \\\n",
       "DOC / Agency #                                      \n",
       "127649.0                                        0   \n",
       "226252.0                                        0   \n",
       "227654.0                                        0   \n",
       "232125.0                                        0   \n",
       "233914.0                                        0   \n",
       "\n",
       "                education_level_when_released_2.0  \\\n",
       "DOC / Agency #                                      \n",
       "127649.0                                        0   \n",
       "226252.0                                        0   \n",
       "227654.0                                        0   \n",
       "232125.0                                        0   \n",
       "233914.0                                        1   \n",
       "\n",
       "                education_level_when_released_3.0  \\\n",
       "DOC / Agency #                                      \n",
       "127649.0                                        0   \n",
       "226252.0                                        0   \n",
       "227654.0                                        0   \n",
       "232125.0                                        0   \n",
       "233914.0                                        0   \n",
       "\n",
       "                education_level_when_released_4.0  \\\n",
       "DOC / Agency #                                      \n",
       "127649.0                                        1   \n",
       "226252.0                                        0   \n",
       "227654.0                                        0   \n",
       "232125.0                                        1   \n",
       "233914.0                                        0   \n",
       "\n",
       "                education_level_when_released_5.0  \\\n",
       "DOC / Agency #                                      \n",
       "127649.0                                        0   \n",
       "226252.0                                        0   \n",
       "227654.0                                        0   \n",
       "232125.0                                        0   \n",
       "233914.0                                        0   \n",
       "\n",
       "                education_level_when_released_6.0  gender_Female  gender_Male  \\\n",
       "DOC / Agency #                                                                  \n",
       "127649.0                                        0              0            0   \n",
       "226252.0                                        1              0            1   \n",
       "227654.0                                        1              0            1   \n",
       "232125.0                                        0              0            0   \n",
       "233914.0                                        0              0            1   \n",
       "\n",
       "                gender_Other  gender_Transgender Woman  \n",
       "DOC / Agency #                                          \n",
       "127649.0                   0                         0  \n",
       "226252.0                   0                         0  \n",
       "227654.0                   0                         0  \n",
       "232125.0                   0                         0  \n",
       "233914.0                   0                         0  "
      ]
     },
     "execution_count": 80,
     "metadata": {},
     "output_type": "execute_result"
    }
   ],
   "source": [
    "x_norace.head()"
   ]
  },
  {
   "cell_type": "code",
   "execution_count": 81,
   "metadata": {
    "collapsed": false
   },
   "outputs": [
    {
     "data": {
      "text/plain": [
       "0.64776119402985077"
      ]
     },
     "execution_count": 81,
     "metadata": {},
     "output_type": "execute_result"
    }
   ],
   "source": [
    "x_train,x_test, y_train, y_test = train_test_split(x_norace,y_norace)\n",
    "lr = LogisticRegression()\n",
    "lr_model = lr.fit(x_train, y_train)\n",
    "lr.score(x_test, y_test)"
   ]
  },
  {
   "cell_type": "code",
   "execution_count": 97,
   "metadata": {
    "collapsed": false
   },
   "outputs": [
    {
     "data": {
      "text/plain": [
       "0.62686567164179108"
      ]
     },
     "execution_count": 97,
     "metadata": {},
     "output_type": "execute_result"
    }
   ],
   "source": [
    "x_train,x_test, y_train, y_test = train_test_split(x,y)\n",
    "lr = LogisticRegression()\n",
    "lr_model = lr.fit(x_train, y_train)\n",
    "lr.score(x_test, y_test)"
   ]
  },
  {
   "cell_type": "code",
   "execution_count": null,
   "metadata": {
    "collapsed": false
   },
   "outputs": [],
   "source": []
  },
  {
   "cell_type": "code",
   "execution_count": null,
   "metadata": {
    "collapsed": false
   },
   "outputs": [],
   "source": [
    "m  = zip(n, o)"
   ]
  },
  {
   "cell_type": "code",
   "execution_count": null,
   "metadata": {
    "collapsed": false
   },
   "outputs": [],
   "source": [
    "for a, b in zip(n, o):\n",
    "    print (a,b)\n",
    "    #change of rate of log odds ratio"
   ]
  },
  {
   "cell_type": "code",
   "execution_count": null,
   "metadata": {
    "collapsed": true
   },
   "outputs": [],
   "source": []
  },
  {
   "cell_type": "code",
   "execution_count": null,
   "metadata": {
    "collapsed": true
   },
   "outputs": [],
   "source": [
    "ppepx_train, ppepx_test, ppepy_train, ppepy_test = train_test_split(ppep_clients, ppep_y)\n",
    "gbc = GradientBoostingClassifier()\n",
    "gbc_model_a = gbc.fit(ppepx_train, ppepy_train)\n",
    "print (gbc_model_a.score(ppepx_test,ppepy_test))"
   ]
  },
  {
   "cell_type": "code",
   "execution_count": 95,
   "metadata": {
    "collapsed": false
   },
   "outputs": [
    {
     "name": "stdout",
     "output_type": "stream",
     "text": [
      "0.65671641791\n"
     ]
    }
   ],
   "source": [
    "x_train, x_test, y_train, y_test = train_test_split(x, y)\n",
    "gbc = GradientBoostingClassifier()\n",
    "gbc_model_ = gbc.fit(x_train, y_train)\n",
    "print (gbc_model_.score(x_test, y_test))"
   ]
  },
  {
   "cell_type": "code",
   "execution_count": null,
   "metadata": {
    "collapsed": false,
    "scrolled": true
   },
   "outputs": [],
   "source": [
    "nonppepx_train, nonppepx_test, nonppepy_train, nonppepy_test = train_test_split(non_ppep_clients, non_ppep_y)\n",
    "gbc = GradientBoostingClassifier()\n",
    "gbc_model_b = gbc.fit(nonppepx_train, nonppepy_train)\n",
    "print (gbc_model_b.score(nonppepx_test, nonppepy_test))"
   ]
  },
  {
   "cell_type": "code",
   "execution_count": null,
   "metadata": {
    "collapsed": false
   },
   "outputs": [],
   "source": [
    "rfc = RandomForestClassifier()\n",
    "rfc_model = rfc.fit(x_train, y_train)\n",
    "print (rfc_model.score(x_test, y_test))"
   ]
  },
  {
   "cell_type": "code",
   "execution_count": null,
   "metadata": {
    "collapsed": false
   },
   "outputs": [],
   "source": [
    "gbc = GradientBoostingClassifier()\n",
    "gbc_model = gbc.fit(x_train, y_train)\n",
    "print (gbc_model.score(x_test, y_test))"
   ]
  },
  {
   "cell_type": "code",
   "execution_count": null,
   "metadata": {
    "collapsed": false
   },
   "outputs": [],
   "source": [
    "clean_df.reset_index(inplace = True)"
   ]
  },
  {
   "cell_type": "markdown",
   "metadata": {},
   "source": [
    "# Plotting ROC curves"
   ]
  },
  {
   "cell_type": "code",
   "execution_count": 85,
   "metadata": {
    "collapsed": false
   },
   "outputs": [
    {
     "data": {
      "image/png": "[encoded data removed]",
      "text/plain": [
       "<matplotlib.figure.Figure at 0x7fbff6b40cc0>"
      ]
     },
     "metadata": {},
     "output_type": "display_data"
    }
   ],
   "source": [
    "'''\n",
    "This ROCurve uses the subset of data that contains people who applied to be served\n",
    "by PPEP but received less than level 3 service\n",
    "'''\n",
    "y_predictprob_gbc_b = lr_model.predict_proba(x_test)\n",
    "false_positive_rate_gbc_model_b, true_positive_rate_gbc_model_b, thresholds_gdc_model_b = roc_curve(y_test, y_predictprob_gbc_b[:,1])\n",
    "roc_auc_gbc_b = auc(false_positive_rate_gbc_model_b, true_positive_rate_gbc_model_b)\n",
    "\n",
    "##Plot ROC\n",
    "\n",
    "plt.title('Receiver Operating Characteristic')\n",
    "\n",
    "plt.plot(false_positive_rate_gbc_model_b, true_positive_rate_gbc_model_b, 'b',\n",
    "label='AUC = %0.2f'% roc_auc_gbc_b)\n",
    "\n",
    "\n",
    "plt.legend(loc='lower right')\n",
    "plt.plot([0,1],[0,1],'r--')\n",
    "#plt.xlim([-0.1,1.2])\n",
    "#plt.ylim([-0.1,1.2])\n",
    "plt.ylabel('True Positive Rate')\n",
    "plt.xlabel('False Positive Rate')\n",
    "plt.show()"
   ]
  },
  {
   "cell_type": "markdown",
   "metadata": {},
   "source": [
    "## Comparing AUC for Random Forest and Gradient Boosting Classifiers"
   ]
  },
  {
   "cell_type": "code",
   "execution_count": null,
   "metadata": {
    "collapsed": true
   },
   "outputs": [],
   "source": [
    "##Predicting classification probability for each model \n",
    "y_predictprob_rfc = rfc_model.predict_proba(x_test)\n",
    "y_predictprob_gbc = gbc_model.predict_proba(x_test)"
   ]
  },
  {
   "cell_type": "code",
   "execution_count": null,
   "metadata": {
    "collapsed": false
   },
   "outputs": [],
   "source": [
    "false_positive_rate_rfc, true_positive_rate_rfc, thresholds_rfc = roc_curve(y_test, y_predictprob_rfc[:,1])\n",
    "false_positive_rate_gbc, true_positive_rate_gbc, thresholds_gbc = roc_curve(y_test, y_predictprob_gbc[:,1])"
   ]
  },
  {
   "cell_type": "code",
   "execution_count": null,
   "metadata": {
    "collapsed": false
   },
   "outputs": [],
   "source": [
    "roc_auc_rfc = auc(false_positive_rate_rfc, true_positive_rate_rfc)\n",
    "roc_auc_gbc = auc(false_positive_rate_gbc, true_positive_rate_gbc)\n",
    "\n",
    "##Plot ROC\n",
    "\n",
    "plt.title('Receiver Operating Characteristic')\n",
    "\n",
    "plt.plot(false_positive_rate_rfc, true_positive_rate_rfc, 'b',\n",
    "label='AUC = %0.2f'% roc_auc_rfc)\n",
    "\n",
    "plt.plot(false_positive_rate_gbc, true_positive_rate_gbc, 'k',\n",
    "label='AUC = %0.2f'% roc_auc_gbc)\n",
    "\n",
    "\n",
    "plt.legend(loc='lower right')\n",
    "plt.plot([0,1],[0,1],'r--')\n",
    "#plt.xlim([-0.1,1.2])\n",
    "#plt.ylim([-0.1,1.2])\n",
    "plt.ylabel('True Positive Rate')\n",
    "plt.xlabel('False Positive Rate')\n",
    "plt.show()"
   ]
  },
  {
   "cell_type": "code",
   "execution_count": null,
   "metadata": {
    "collapsed": false
   },
   "outputs": [],
   "source": [
    "'''\n",
    "A simulation estimating the aggregate cost of someone recidivating over a three year period\n",
    "'''\n",
    "##direct unit cost of incarceration per annum \n",
    "unit_cost = 51775\n",
    "time_period = [1,2,3]\n",
    "\n",
    "recidivism_probability_within_one_year = 13.7\n",
    "recidivism_probability_within_two_years = 27.0\n",
    "recidivism_probability_within_three_years = 34.9\n",
    "\n",
    "'''\n",
    "Estimated cost of incarceration while taking into account recidivism rate\n",
    "'''\n",
    "cost_if_recidivism_within_one_year = unit_cost * 3 * 0.137\n",
    "print (0 + unit_cost * 2 * 0.27)\n",
    "print (0 + 0 + unit_cost * 1 * 0.349)\n",
    "total_cost = (unit_cost * 3 * 0.137)+ (0 + unit_cost * 2 * 0.27)+(0 + 0 + unit_cost * 1 * 0.349)\n",
    "print ('Total cost with recidivism: {}'.format(total_cost))"
   ]
  },
  {
   "cell_type": "code",
   "execution_count": null,
   "metadata": {
    "collapsed": false
   },
   "outputs": [],
   "source": [
    "##cost matrix\n",
    "##cost matrix excluding race\n",
    "\n",
    "unit_cost = 51775 ##dollars per year\n",
    "ppep_recidivism_rate = 0.078 \n",
    "##how long is the average prison sentence for each crime type/when someone reoffends##??\n",
    "##divide by three??\n",
    "general_recidivism_rate = [0.085, 0.12, 0.079]\n",
    "time_period = [1,2,3]\n",
    "##find out cost of the program \n",
    "'''\n",
    "calculating expected cost of incarceration for a randomly selected person\n",
    "'''\n",
    "\n",
    "def general_expected_cost_func():\n",
    "    expected_cost = 0\n",
    "    for recidivism_rate in general_recidivism_rate:\n",
    "        expected_cost += unit_cost * recidivism_rate\n",
    "    return expected_cost\n",
    "\n",
    "'''\n",
    "calculating the expected cost of incarceration with PPEP services\n",
    "'''\n",
    "def with_ppep_expected_cost_func():\n",
    "    expected_cost = 0\n",
    "    for year in range(3):\n",
    "        expected_cost += unit_cost * ppep_recidivism_rate\n",
    "    return expected_cost\n",
    "\n",
    "print (general_expected_cost_func())\n",
    "print (with_ppep_expected_cost_func())"
   ]
  },
  {
   "cell_type": "code",
   "execution_count": null,
   "metadata": {
    "collapsed": false
   },
   "outputs": [],
   "source": [
    "'''\n",
    "plotting expected cost of incarceration per person depending \n",
    "'''\n",
    "from matplotlib.legend_handler import HandlerLine2D\n",
    "def plot_cost(recidivism = 0.5):\n",
    "    cost = 51775\n",
    "    x = [1,2,3]\n",
    "    #recidivism = 0.278\n",
    "    ppep_recidivism = 0.078\n",
    "    y = [i * cost * recidivism for i in x]\n",
    "    y2 = [i * cost* ppep_recidivism for i in x]\n",
    "    line1, = plt.plot(x,y,label = 'general');\n",
    "    line2, = plt.plot(x, y2, label = 'ppep')\n",
    "    plt.setp(line1, color='k', linewidth=2.0)\n",
    "    plt.setp(line2, color='b', linewidth=2.0)\n",
    "    plt.legend(handler_map={line1: HandlerLine2D(numpoints=4)})\n",
    "plot_cost(recidivism = 0.5)\n"
   ]
  },
  {
   "cell_type": "markdown",
   "metadata": {},
   "source": [
    "## Confusion Matrix "
   ]
  },
  {
   "cell_type": "code",
   "execution_count": 86,
   "metadata": {
    "collapsed": true
   },
   "outputs": [],
   "source": [
    "def show_confusion_matrix(C,class_labels=['0','1']):\n",
    "    \"\"\"\n",
    "    C: ndarray, shape (2,2) as given by scikit-learn confusion_matrix function\n",
    "    class_labels: list of strings, default simply labels 0 and 1.\n",
    "\n",
    "    Draws confusion matrix with associated metrics.\n",
    "    credits for confusion matrix code: http://notmatthancock.github.io/2015/10/28/confusion-matrix.html\n",
    "    \"\"\"\n",
    "    import numpy as np\n",
    "    \n",
    "    assert C.shape == (2,2), \"Confusion matrix should be from binary classification only.\"\n",
    "    \n",
    "    # true negative, false positive, etc...\n",
    "    tn = C[0,0]; fp = C[0,1]; fn = C[1,0]; tp = C[1,1];\n",
    "\n",
    "    NP = fn+tp # Num positive examples\n",
    "    NN = tn+fp # Num negative examples\n",
    "    N  = NP+NN\n",
    "\n",
    "    fig = plt.figure(figsize=(8,8))\n",
    "    ax  = fig.add_subplot(111)\n",
    "    ax.imshow(C, interpolation='nearest', cmap=plt.cm.gray)\n",
    "\n",
    "    # Draw the grid boxes\n",
    "    ax.set_xlim(-0.5,2.5)\n",
    "    ax.set_ylim(2.5,-0.5)\n",
    "    ax.plot([-0.5,2.5],[0.5,0.5], '-k', lw=2)\n",
    "    ax.plot([-0.5,2.5],[1.5,1.5], '-k', lw=2)\n",
    "    ax.plot([0.5,0.5],[-0.5,2.5], '-k', lw=2)\n",
    "    ax.plot([1.5,1.5],[-0.5,2.5], '-k', lw=2)\n",
    "\n",
    "    # Set xlabels\n",
    "    ax.set_xlabel('Predicted Label', fontsize=16)\n",
    "    ax.set_xticks([0,1,2])\n",
    "    ax.set_xticklabels(class_labels + [''])\n",
    "    ax.xaxis.set_label_position('top')\n",
    "    ax.xaxis.tick_top()\n",
    "    # These coordinate might require some tinkering. Ditto for y, below.\n",
    "    ax.xaxis.set_label_coords(0.34,1.06)\n",
    "\n",
    "    # Set ylabels\n",
    "    ax.set_ylabel('True Label', fontsize=16, rotation=90)\n",
    "    ax.set_yticklabels(class_labels + [''],rotation=90)\n",
    "    ax.set_yticks([0,1,2])\n",
    "    ax.yaxis.set_label_coords(-0.09,0.65)\n",
    "\n",
    "\n",
    "    # Fill in initial metrics: tp, tn, etc...\n",
    "    ax.text(0,0,\n",
    "            'True Neg: %d\\n(Num Neg: %d)'%(tn,NN),\n",
    "            va='center',\n",
    "            ha='center',\n",
    "            bbox=dict(fc='w',boxstyle='round,pad=1'))\n",
    "\n",
    "    ax.text(0,1,\n",
    "            'False Neg: %d'%fn,\n",
    "            va='center',\n",
    "            ha='center',\n",
    "            bbox=dict(fc='w',boxstyle='round,pad=1'))\n",
    "\n",
    "    ax.text(1,0,\n",
    "            'False Pos: %d'%fp,\n",
    "            va='center',\n",
    "            ha='center',\n",
    "            bbox=dict(fc='w',boxstyle='round,pad=1'))\n",
    "\n",
    "\n",
    "    ax.text(1,1,\n",
    "            'True Pos: %d\\n(Num Pos: %d)'%(tp,NP),\n",
    "            va='center',\n",
    "            ha='center',\n",
    "            bbox=dict(fc='w',boxstyle='round,pad=1'))\n",
    "\n",
    "    # Fill in secondary metrics: accuracy, true pos rate, etc...\n",
    "    ax.text(2,0,\n",
    "            'False Pos Rate: %.2f'%(fp / (fp+tn+0.)),\n",
    "            va='center',\n",
    "            ha='center',\n",
    "            bbox=dict(fc='w',boxstyle='round,pad=1'))\n",
    "\n",
    "    ax.text(2,1,\n",
    "            'True Pos Rate: %.2f'%(tp / (tp+fn+0.)),\n",
    "            va='center',\n",
    "            ha='center',\n",
    "            bbox=dict(fc='w',boxstyle='round,pad=1'))\n",
    "\n",
    "    ax.text(2,2,\n",
    "            'Accuracy: %.2f'%((tp+tn+0.)/N),\n",
    "            va='center',\n",
    "            ha='center',\n",
    "            bbox=dict(fc='w',boxstyle='round,pad=1'))\n",
    "\n",
    "    ax.text(0,2,\n",
    "            'Neg Pre Val: %.2f'%(1-fn/(fn+tn+0.)),\n",
    "            va='center',\n",
    "            ha='center',\n",
    "            bbox=dict(fc='w',boxstyle='round,pad=1'))\n",
    "\n",
    "    ax.text(1,2,\n",
    "            'Pos Pred Val: %.2f'%(tp/(tp+fp+0.)),\n",
    "            va='center',\n",
    "            ha='center',\n",
    "            bbox=dict(fc='w',boxstyle='round,pad=1'))\n",
    "\n",
    "\n",
    "    plt.tight_layout()\n",
    "    plt.show()"
   ]
  },
  {
   "cell_type": "code",
   "execution_count": 96,
   "metadata": {
    "collapsed": false
   },
   "outputs": [
    {
     "data": {
      "image/png": "[encoded data removed]",
      "text/plain": [
       "<matplotlib.figure.Figure at 0x7fbff6a33ac8>"
      ]
     },
     "metadata": {},
     "output_type": "display_data"
    }
   ],
   "source": [
    "from sklearn.metrics import confusion_matrix\n",
    "C = confusion_matrix(y_test,gbc_model_.predict(x_test))\n",
    "show_confusion_matrix(C, ['Class 0', 'Class 1'])"
   ]
  },
  {
   "cell_type": "code",
   "execution_count": 106,
   "metadata": {
    "collapsed": false
   },
   "outputs": [],
   "source": [
    "df_afam = x_test[(x_test['race_or_ethnicity_Asian; Black / African American'] == 1)|(x_test['race_or_ethnicity_Black / African American'] ==1) | (x_test[ 'race_or_ethnicity_Black / African American; Caucasian'] ==1)|\n",
    "       (x_test['race_or_ethnicity_Black / African American; Caucasian; Hispanic / Latino']==1)|\n",
    "       (x_test['race_or_ethnicity_Black / African American; Caucasian; Native American']==1)|\n",
    "       (x_test['race_or_ethnicity_Black / African American; Hispanic / Latino'] ==1)|\n",
    "       (x_test['race_or_ethnicity_Black / African American; Native American']==1)|\n",
    "       (x_test['race_or_ethnicity_Black / African American; Native Hawaiian / Pacific Islander'] ==1)]"
   ]
  },
  {
   "cell_type": "code",
   "execution_count": 114,
   "metadata": {
    "collapsed": false
   },
   "outputs": [],
   "source": [
    "y_afam = y_test[(x_test['race_or_ethnicity_Asian; Black / African American'] == 1)|(x_test['race_or_ethnicity_Black / African American'] ==1) | (x_test[ 'race_or_ethnicity_Black / African American; Caucasian'] ==1)|\n",
    "       (x_test['race_or_ethnicity_Black / African American; Caucasian; Hispanic / Latino']==1)|\n",
    "       (x_test['race_or_ethnicity_Black / African American; Caucasian; Native American']==1)|\n",
    "       (x_test['race_or_ethnicity_Black / African American; Hispanic / Latino'] ==1)|\n",
    "       (x_test['race_or_ethnicity_Black / African American; Native American']==1)|\n",
    "       (x_test['race_or_ethnicity_Black / African American; Native Hawaiian / Pacific Islander'] ==1)]"
   ]
  },
  {
   "cell_type": "code",
   "execution_count": 131,
   "metadata": {
    "collapsed": false
   },
   "outputs": [],
   "source": [
    "x_white = x_test[(x_test['race_or_ethnicity_Alaskan Native; Caucasian'] ==1)|\n",
    "        (x_test['race_or_ethnicity_Caucasian'] ==1)|\n",
    "       (x_test['race_or_ethnicity_Caucasian; Hispanic / Latino']==1)|\n",
    "       (x_test['race_or_ethnicity_Caucasian; Hispanic / Latino; Native American']==1)|\n",
    "       (x_test['race_or_ethnicity_Caucasian; Native American']==1)|\n",
    "       (x_test['race_or_ethnicity_Caucasian; Native Hawaiian / Pacific Islander']==1)|\n",
    "        (x_test['race_or_ethnicity_Asian; Caucasian']==1)|\n",
    "       (x_test['race_or_ethnicity_Asian; Caucasian; Native American']==1)|\n",
    "       (x_test['race_or_ethnicity_Asian; Caucasian; Native Hawaiian / Pacific Islander']==1)|\n",
    "       (x_test['race_or_ethnicity_Black / African American; Caucasian']==1)|\n",
    "       (x_test['race_or_ethnicity_Black / African American; Caucasian; Hispanic / Latino']==1)|\n",
    "       (x_test['race_or_ethnicity_Black / African American; Caucasian; Native American']==1)]"
   ]
  },
  {
   "cell_type": "code",
   "execution_count": 133,
   "metadata": {
    "collapsed": false
   },
   "outputs": [
    {
     "data": {
      "text/plain": [
       "(216, 39)"
      ]
     },
     "execution_count": 133,
     "metadata": {},
     "output_type": "execute_result"
    }
   ],
   "source": [
    "x_white.shape"
   ]
  },
  {
   "cell_type": "code",
   "execution_count": 132,
   "metadata": {
    "collapsed": true
   },
   "outputs": [],
   "source": [
    "y_white =y_test[(x_test['race_or_ethnicity_Alaskan Native; Caucasian'] ==1)|\n",
    "        (x_test['race_or_ethnicity_Caucasian'] ==1)|\n",
    "       (x_test['race_or_ethnicity_Caucasian; Hispanic / Latino']==1)|\n",
    "       (x_test['race_or_ethnicity_Caucasian; Hispanic / Latino; Native American']==1)|\n",
    "       (x_test['race_or_ethnicity_Caucasian; Native American']==1)|\n",
    "       (x_test['race_or_ethnicity_Caucasian; Native Hawaiian / Pacific Islander']==1)|\n",
    "        (x_test['race_or_ethnicity_Asian; Caucasian']==1)|\n",
    "       (x_test['race_or_ethnicity_Asian; Caucasian; Native American']==1)|\n",
    "       (x_test['race_or_ethnicity_Asian; Caucasian; Native Hawaiian / Pacific Islander']==1)|\n",
    "       (x_test['race_or_ethnicity_Black / African American; Caucasian']==1)|\n",
    "       (x_test['race_or_ethnicity_Black / African American; Caucasian; Hispanic / Latino']==1)|\n",
    "       (x_test['race_or_ethnicity_Black / African American; Caucasian; Native American']==1)]"
   ]
  },
  {
   "cell_type": "code",
   "execution_count": 134,
   "metadata": {
    "collapsed": false
   },
   "outputs": [
    {
     "data": {
      "text/plain": [
       "0.64814814814814814"
      ]
     },
     "execution_count": 134,
     "metadata": {},
     "output_type": "execute_result"
    }
   ],
   "source": [
    "lr_model.score(x_white, y_white)"
   ]
  },
  {
   "cell_type": "code",
   "execution_count": 116,
   "metadata": {
    "collapsed": false
   },
   "outputs": [
    {
     "data": {
      "text/plain": [
       "0.6470588235294118"
      ]
     },
     "execution_count": 116,
     "metadata": {},
     "output_type": "execute_result"
    }
   ],
   "source": [
    "lr_model.score(df_afam, y_afam)"
   ]
  },
  {
   "cell_type": "code",
   "execution_count": 136,
   "metadata": {
    "collapsed": false
   },
   "outputs": [
    {
     "data": {
      "image/png": "[encoded data removed]",
      "text/plain": [
       "<matplotlib.figure.Figure at 0x7fbff671a208>"
      ]
     },
     "metadata": {},
     "output_type": "display_data"
    }
   ],
   "source": [
    "'''\n",
    "confusion matrix for 'Caucasian'\n",
    "'''\n",
    "from sklearn.metrics import confusion_matrix\n",
    "C = confusion_matrix(y_white,lr_model.predict(x_white))\n",
    "show_confusion_matrix(C, ['Class 0', 'Class 1'])"
   ]
  },
  {
   "cell_type": "code",
   "execution_count": 120,
   "metadata": {
    "collapsed": false
   },
   "outputs": [
    {
     "data": {
      "image/png": "[encoded data removed]",
      "text/plain": [
       "<matplotlib.figure.Figure at 0x7fbff68a0358>"
      ]
     },
     "metadata": {},
     "output_type": "display_data"
    }
   ],
   "source": [
    "'''\n",
    "confusion matrix for African Americans\n",
    "'''\n",
    "from sklearn.metrics import confusion_matrix\n",
    "C = confusion_matrix(y_afam,lr_model.predict(df_afam))\n",
    "show_confusion_matrix(C, ['Class 0', 'Class 1'])"
   ]
  },
  {
   "cell_type": "code",
   "execution_count": 119,
   "metadata": {
    "collapsed": false,
    "scrolled": true
   },
   "outputs": [
    {
     "data": {
      "image/png": "[encoded data removed]",
      "text/plain": [
       "<matplotlib.figure.Figure at 0x7fbff6967d30>"
      ]
     },
     "metadata": {},
     "output_type": "display_data"
    }
   ],
   "source": [
    "from sklearn.metrics import confusion_matrix\n",
    "C = confusion_matrix(y_test,lr_model.predict(x_test))\n",
    "show_confusion_matrix(C, ['Class 0', 'Class 1'])"
   ]
  },
  {
   "cell_type": "code",
   "execution_count": null,
   "metadata": {
    "collapsed": false
   },
   "outputs": [],
   "source": [
    "def main(user_input):\n",
    "    df = user_input\n",
    "    with open('model.pkl') as f:\n",
    "        model = pickle.load(f)\n",
    "    prediction =  model.predict_proba(y)\n",
    "    df['Prediction'] = prediction\n",
    "    return df"
   ]
  },
  {
   "cell_type": "code",
   "execution_count": null,
   "metadata": {
    "collapsed": false
   },
   "outputs": [],
   "source": [
    "x = x_test.reset_index()\n",
    "##grouping the racial categories "
   ]
  },
  {
   "cell_type": "code",
   "execution_count": null,
   "metadata": {
    "collapsed": false
   },
   "outputs": [],
   "source": [
    "def fit(x_train, y_train):\n",
    "    gbc = GradientBoostingClassifier()\n",
    "    gbc.fit(x_train, y_train)\n",
    "    with open('model.pkl', 'wb') as f:\n",
    "        pickle.dump(gbc,f)"
   ]
  },
  {
   "cell_type": "code",
   "execution_count": null,
   "metadata": {
    "collapsed": true
   },
   "outputs": [],
   "source": []
  }
 ],
 "metadata": {
  "kernelspec": {
   "display_name": "Python 3",
   "language": "python",
   "name": "python3"
  },
  "language_info": {
   "codemirror_mode": {
    "name": "ipython",
    "version": 3
   },
   "file_extension": ".py",
   "mimetype": "text/x-python",
   "name": "python",
   "nbconvert_exporter": "python",
   "pygments_lexer": "ipython3",
   "version": "3.6.0"
  }
 },
 "nbformat": 4,
 "nbformat_minor": 2
}
